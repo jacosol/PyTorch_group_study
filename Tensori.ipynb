{
 "cells": [
  {
   "cell_type": "code",
   "execution_count": 4,
   "metadata": {},
   "outputs": [],
   "source": [
    "import torch\n",
    "import numpy as np"
   ]
  },
  {
   "cell_type": "markdown",
   "metadata": {},
   "source": [
    "# Broadcasting\n",
    "\n",
    "Algoritmo per capire se è possibile il broadcasting tra due vettori:\n",
    "1. Si aggiungono tante dimensioni uguali a 1 all'array con meno dimensioni, in manier tale che il numero di dimensioni dei dure array sia uguale\n",
    "2. Si può effettuare il broadcast se, per ogni coppia di dimensioni, le dimensioni sono uguali oppure una di esse vale 1"
   ]
  },
  {
   "cell_type": "code",
   "execution_count": 49,
   "metadata": {},
   "outputs": [
    {
     "name": "stdout",
     "output_type": "stream",
     "text": [
      "shape = torch.Size([10, 640, 480, 3])\n",
      "tensor([0.9754, 0.9777, 0.6039])\n",
      "tensor([0.9754, 0.0978, 0.6039])\n",
      "shape = torch.Size([10, 640, 480, 3])\n",
      "tensor([0.3016, 0.1683, 0.6467, 0.7421, 0.2050, 0.1731, 0.6606, 0.3986, 0.1374,\n",
      "        0.9212])\n",
      "tensor([0.3016, 0.1683, 0.6467, 0.7421, 0.2050, 0.1731, 0.6606, 0.3986, 0.1374,\n",
      "        0.0921])\n"
     ]
    }
   ],
   "source": [
    "images = torch.rand(10, 640, 480, 3)\n",
    "\n",
    "# divido per 10 il canale green\n",
    "t = torch.tensor([1, 10, 1], dtype=torch.float)\n",
    "images2 = images/t\n",
    "print(f\"shape = {images2.shape}\")\n",
    "n = 0\n",
    "r = 4\n",
    "c = 65\n",
    "print(images[n,r,c,:])\n",
    "print(images2[n,r,c,:])\n",
    "\n",
    "#divido per 10 l'ultima riga di ogni immagine\n",
    "t = torch.ones(640, 1, 1)\n",
    "t[-1] = 10\n",
    "images3 = images/t\n",
    "print(f\"shape = {images3.shape}\")\n",
    "n = 0\n",
    "c = 65\n",
    "rgb = 0\n",
    "# stampo le ultime 10 righe\n",
    "print(images[n,-10:,c,rgb])\n",
    "print(images3[n,-10:,c,rgb])"
   ]
  },
  {
   "cell_type": "markdown",
   "metadata": {},
   "source": [
    "**Altro esempio di broadcasting. In questo caso la somma ha shape differente da entrambi gli addendi**"
   ]
  },
  {
   "cell_type": "code",
   "execution_count": 51,
   "metadata": {},
   "outputs": [
    {
     "data": {
      "text/plain": [
       "torch.Size([3, 5, 4])"
      ]
     },
     "execution_count": 51,
     "metadata": {},
     "output_type": "execute_result"
    }
   ],
   "source": [
    "t1 = torch.rand(3,1,4)\n",
    "t2 = torch.rand(5,1)\n",
    "t3 = t1 + t2\n",
    "t3.shape"
   ]
  },
  {
   "cell_type": "markdown",
   "metadata": {},
   "source": [
    "**One complication is that in-place operations do not allow the in-place tensor to change shape as a result of the broadcast.**"
   ]
  },
  {
   "cell_type": "code",
   "execution_count": 68,
   "metadata": {},
   "outputs": [
    {
     "data": {
      "text/plain": [
       "torch.Size([5, 3, 4, 1])"
      ]
     },
     "execution_count": 68,
     "metadata": {},
     "output_type": "execute_result"
    }
   ],
   "source": [
    "x=torch.empty(5,3,4,1)\n",
    "y=torch.empty(3,1,1)\n",
    "(x.add_(y)).size()\n",
    "torch.Size([5, 3, 4, 1])"
   ]
  },
  {
   "cell_type": "code",
   "execution_count": 70,
   "metadata": {},
   "outputs": [
    {
     "data": {
      "text/plain": [
       "torch.Size([3, 3, 7])"
      ]
     },
     "execution_count": 70,
     "metadata": {},
     "output_type": "execute_result"
    }
   ],
   "source": [
    "\n",
    "x=torch.empty(1,3,1)\n",
    "y=torch.empty(3,1,7)\n",
    "(x.add_(y)).size()"
   ]
  },
  {
   "cell_type": "markdown",
   "metadata": {},
   "source": [
    "# Sottotensori"
   ]
  },
  {
   "cell_type": "code",
   "execution_count": 36,
   "metadata": {},
   "outputs": [
    {
     "name": "stdout",
     "output_type": "stream",
     "text": [
      "prima immagine: torch.Size([640, 480, 3])\n",
      "prima immagine con dimensione dummy: torch.Size([1, 640, 480, 3])\n",
      "ultima immagine: torch.Size([640, 480, 3])\n",
      "tolgo la prima e l'ultima colonna: torch.Size([10, 640, 478, 3])\n"
     ]
    }
   ],
   "source": [
    "images = torch.rand(10, 640, 480, 3)\n",
    "# prendo la prima immagine\n",
    "print(f\"prima immagine: {images[0].shape}\")\n",
    "# prendo la prima immagine\n",
    "print(f\"prima immagine con dimensione dummy: {images[0:1].shape}\")\n",
    "# prendo l'ultima immagine\n",
    "print(f\"ultima immagine: {images[-1].shape}\")\n",
    "#tolgo la prima e l'ultima colonna\n",
    "print(f\"tolgo la prima e l'ultima colonna: {images[:,:,1:-1].shape}\")"
   ]
  },
  {
   "cell_type": "markdown",
   "metadata": {},
   "source": [
    "# Creazione di tensori"
   ]
  },
  {
   "cell_type": "markdown",
   "metadata": {},
   "source": [
    "## torch.tensor(data, dtype=None, device=None, requires_grad=False) → Tensor\n",
    "\n",
    "torch.tensor effettua sempre una **copia** dei dati"
   ]
  },
  {
   "cell_type": "code",
   "execution_count": 3,
   "metadata": {},
   "outputs": [
    {
     "name": "stdout",
     "output_type": "stream",
     "text": [
      "x = [1, 2, 3]\n",
      "t = tensor([4, 2, 3])\n"
     ]
    }
   ],
   "source": [
    "# si può creare un tensore da una lista, una tupla, un array numpy, uno scalare. I dati sono copiati\n",
    "x = [1,2,3]\n",
    "t = torch.tensor(x)\n",
    "t[0] = 4\n",
    "print(f\"x = {x}\")\n",
    "print(f\"t = {t}\")"
   ]
  },
  {
   "cell_type": "markdown",
   "metadata": {},
   "source": [
    "si può anche utilizzare torch.tensor per clonare un altro tensore, ma è una funzionalità deprecata"
   ]
  },
  {
   "cell_type": "code",
   "execution_count": 4,
   "metadata": {},
   "outputs": [
    {
     "name": "stderr",
     "output_type": "stream",
     "text": [
      "C:\\Users\\btlgs\\Anaconda3\\lib\\site-packages\\ipykernel_launcher.py:3: UserWarning: To copy construct from a tensor, it is recommended to use sourceTensor.clone().detach() or sourceTensor.clone().detach().requires_grad_(True), rather than torch.tensor(sourceTensor).\n",
      "  This is separate from the ipykernel package so we can avoid doing imports until\n"
     ]
    }
   ],
   "source": [
    "x = [1,2,3]\n",
    "t1 = torch.tensor(x)\n",
    "t2 = torch.tensor(t1)"
   ]
  },
  {
   "cell_type": "code",
   "execution_count": 65,
   "metadata": {},
   "outputs": [
    {
     "name": "stdout",
     "output_type": "stream",
     "text": [
      "[1, 2, 3]\n",
      "tensor([4, 2, 3])\n",
      "[4 2 3]\n",
      "tensor([4, 2, 3], dtype=torch.int32)\n",
      "[4 2 3]\n",
      "tensor([1, 2, 3], device='cuda:0', dtype=torch.int32)\n",
      "[4 2 3]\n",
      "tensor([1., 2., 3.])\n"
     ]
    }
   ],
   "source": [
    "l = [1,2,3]\n",
    "t = torch.as_tensor(l, dtype=None, device=\"cpu\")\n",
    "t[0] = 4\n",
    "print(l)\n",
    "print(t)\n",
    "\n",
    "# se il tensore pytorch e l'array numpy hanno lo stesso tipo e il tensore è sulla cpu\n",
    "# si ha condivisione della memoria\n",
    "l = np.array([1,2,3])\n",
    "t = torch.as_tensor(l, dtype=None, device=\"cpu\")\n",
    "l[0] = 4\n",
    "print(l)\n",
    "print(t)\n",
    "\n",
    "l = np.array([1,2,3])\n",
    "t = torch.as_tensor(l, dtype=None, device=\"cuda:0\")\n",
    "l[0] = 4\n",
    "print(l)\n",
    "print(t)\n",
    "\n",
    "l = np.array([1,2,3])\n",
    "t = torch.as_tensor(l, dtype=torch.float, device=\"cpu\")\n",
    "l[0] = 4\n",
    "print(l)\n",
    "print(t)"
   ]
  },
  {
   "cell_type": "code",
   "execution_count": 1,
   "metadata": {
    "collapsed": true
   },
   "outputs": [
    {
     "ename": "SyntaxError",
     "evalue": "invalid character in identifier (<ipython-input-1-44e5649dcbc4>, line 4)",
     "output_type": "error",
     "traceback": [
      "\u001b[1;36m  File \u001b[1;32m\"<ipython-input-1-44e5649dcbc4>\"\u001b[1;36m, line \u001b[1;32m4\u001b[0m\n\u001b[1;33m    torch.zeros(*sizes, out=None, dtype=None, layout=torch.strided, device=None, requires_grad=False) → Tensor\u001b[0m\n\u001b[1;37m                                                                                                      ^\u001b[0m\n\u001b[1;31mSyntaxError\u001b[0m\u001b[1;31m:\u001b[0m invalid character in identifier\n"
     ]
    }
   ],
   "source": [
    "# restituisce un tensore che condivide la memoria con l'array numpy\n",
    "torch.from_numpy(ndarray)\n",
    "# il layout è sempre strided tranne che per i tensori sparsi\n",
    "torch.zeros(*sizes, out=None, dtype=None, layout=torch.strided, device=None, requires_grad=False) → Tensor\n",
    "# come torch.zeros ma prende le dimensioni dal vettore di input. è come torch.zeros(input.shape) o torch.zeros(input.size())\n",
    "torch.zeros_like(input, dtype=None, layout=None, device=None, requires_grad=False) → Tensor\n",
    "torch.ones\n",
    "torch.arange(start=0, end, step=1, out=None, dtype=None, layout=torch.strided, device=None, requires_grad=False) → Tensor\n",
    "torch.linspace\n"
   ]
  },
  {
   "cell_type": "markdown",
   "metadata": {},
   "source": [
    "# Operazioni di Indexing, Slicing, Joining, Mutating Ops"
   ]
  },
  {
   "cell_type": "markdown",
   "metadata": {},
   "source": [
    "## Joining (unire più vettori)"
   ]
  },
  {
   "cell_type": "markdown",
   "metadata": {},
   "source": [
    "torch.cat(tensors, dim=0, out=None) → Tensor"
   ]
  },
  {
   "cell_type": "code",
   "execution_count": 8,
   "metadata": {},
   "outputs": [
    {
     "data": {
      "text/plain": [
       "torch.Size([2, 8, 7])"
      ]
     },
     "execution_count": 8,
     "metadata": {},
     "output_type": "execute_result"
    }
   ],
   "source": [
    "t1 = torch.rand(2,3,7)\n",
    "t2 = torch.rand(2,5,7)\n",
    "t3 = torch.cat((t1, t2), dim=1)\n",
    "t3.size()"
   ]
  },
  {
   "cell_type": "markdown",
   "metadata": {},
   "source": [
    "torch.stack(seq, dim=0, out=None) → Tensor"
   ]
  },
  {
   "cell_type": "code",
   "execution_count": 25,
   "metadata": {},
   "outputs": [
    {
     "data": {
      "text/plain": [
       "torch.Size([2, 4, 3])"
      ]
     },
     "execution_count": 25,
     "metadata": {},
     "output_type": "execute_result"
    }
   ],
   "source": [
    "# i tensori devono avere la stessa shape\n",
    "t1 = torch.rand(2,3)\n",
    "t2 = torch.rand(2,3)\n",
    "t3 = torch.rand(2,3)\n",
    "t4 = torch.rand(2,3)\n",
    "torch.stack((t1, t2, t3, t4), dim=1).size()"
   ]
  },
  {
   "cell_type": "markdown",
   "metadata": {},
   "source": [
    "## Slicing (suddividere in più vettori)"
   ]
  },
  {
   "cell_type": "markdown",
   "metadata": {},
   "source": [
    "torch.chunk(tensor, chunks, dim=0) → List of Tensors"
   ]
  },
  {
   "cell_type": "code",
   "execution_count": 11,
   "metadata": {},
   "outputs": [
    {
     "data": {
      "text/plain": [
       "[torch.Size([5, 7, 3]), torch.Size([5, 7, 3]), torch.Size([5, 7, 2])]"
      ]
     },
     "execution_count": 11,
     "metadata": {},
     "output_type": "execute_result"
    }
   ],
   "source": [
    "t = torch.rand(5,7,8)\n",
    "ts = torch.chunk(t, 3, dim=2)\n",
    "[t.shape for t in ts]"
   ]
  },
  {
   "cell_type": "markdown",
   "metadata": {},
   "source": [
    "torch.split(tensor, split_size_or_sections, dim=0)\n",
    "\n",
    "come chunk ma invece di specificare il numero di pezzi si specifica la loro dimensione (unica o una lista di dimensioni)"
   ]
  },
  {
   "cell_type": "markdown",
   "metadata": {},
   "source": [
    "torch.unbind(tensor, dim=0) → seq \n",
    "\n",
    "torch.unbind(tensor, dim=k) = torch.chunk(tensor, tensor.shape[k], dim=k)"
   ]
  },
  {
   "cell_type": "markdown",
   "metadata": {},
   "source": [
    "## Indexing (estrarre un sottovettore)"
   ]
  },
  {
   "cell_type": "markdown",
   "metadata": {},
   "source": [
    "torch.gather(input, dim, index, out=None) → Tensor"
   ]
  },
  {
   "cell_type": "code",
   "execution_count": 13,
   "metadata": {},
   "outputs": [
    {
     "data": {
      "text/plain": [
       "tensor([[1, 1, 3, 3, 2, 2],\n",
       "        [6, 6, 6, 4, 4, 4]])"
      ]
     },
     "execution_count": 13,
     "metadata": {},
     "output_type": "execute_result"
    }
   ],
   "source": [
    "t1 = torch.tensor([[1,2,3], [4,5,6]])\n",
    "index = torch.tensor([[0,0,2,2,1,1], [2,2,2,0,0,0]])\n",
    "torch.gather(t1, 1, index)"
   ]
  },
  {
   "cell_type": "markdown",
   "metadata": {},
   "source": [
    "## Mutating (modificare un vettore)"
   ]
  },
  {
   "cell_type": "markdown",
   "metadata": {},
   "source": [
    "torch.squeeze(input, dim=None, out=None) → Tensor"
   ]
  },
  {
   "cell_type": "code",
   "execution_count": 15,
   "metadata": {},
   "outputs": [
    {
     "data": {
      "text/plain": [
       "torch.Size([3, 4, 2])"
      ]
     },
     "execution_count": 15,
     "metadata": {},
     "output_type": "execute_result"
    }
   ],
   "source": [
    "t = torch.rand(1,3,4,1,1,2)\n",
    "torch.squeeze(t).size()"
   ]
  },
  {
   "cell_type": "code",
   "execution_count": 20,
   "metadata": {},
   "outputs": [
    {
     "data": {
      "text/plain": [
       "torch.Size([1, 3, 4, 1, 2])"
      ]
     },
     "execution_count": 20,
     "metadata": {},
     "output_type": "execute_result"
    }
   ],
   "source": [
    "t = torch.rand(1,3,4,1,1,2)\n",
    "torch.squeeze(t, dim=3).size()"
   ]
  },
  {
   "cell_type": "markdown",
   "metadata": {},
   "source": [
    "\n",
    "torch.unsqueeze(input, dim, out=None) → Tensor"
   ]
  },
  {
   "attachments": {
    "image.png": {
     "image/png": "[encoded data removed]"
    }
   },
   "cell_type": "markdown",
   "metadata": {},
   "source": [
    "# Dtype (data type) e device\n",
    "I tipi sono:\n",
    "![image.png](attachment:image.png)\n",
    "Le device sono \"cpu\" e \"cuda:n\" (una delle gpu)\n"
   ]
  },
  {
   "cell_type": "code",
   "execution_count": 5,
   "metadata": {},
   "outputs": [
    {
     "name": "stdout",
     "output_type": "stream",
     "text": [
      "device = cuda:0\n",
      "True\n",
      "numero della gpu: 0\n",
      "tipo: torch.float32\n",
      "device = cpu\n",
      "True\n"
     ]
    },
    {
     "ename": "RuntimeError",
     "evalue": "get_device is not implemented for tensors with CPU backend",
     "output_type": "error",
     "traceback": [
      "\u001b[1;31m---------------------------------------------------------------------------\u001b[0m",
      "\u001b[1;31mRuntimeError\u001b[0m                              Traceback (most recent call last)",
      "\u001b[1;32m<ipython-input-5-8331c8275443>\u001b[0m in \u001b[0;36m<module>\u001b[1;34m\u001b[0m\n\u001b[0;32m     14\u001b[0m \u001b[0mprint\u001b[0m\u001b[1;33m(\u001b[0m\u001b[0mt\u001b[0m\u001b[1;33m.\u001b[0m\u001b[0mdevice\u001b[0m\u001b[1;33m==\u001b[0m\u001b[0mdevice\u001b[0m\u001b[1;33m)\u001b[0m\u001b[1;33m\u001b[0m\u001b[1;33m\u001b[0m\u001b[0m\n\u001b[0;32m     15\u001b[0m \u001b[1;31m# get_device lancia un'eccezione se il tensore è sulla cpu\u001b[0m\u001b[1;33m\u001b[0m\u001b[1;33m\u001b[0m\u001b[1;33m\u001b[0m\u001b[0m\n\u001b[1;32m---> 16\u001b[1;33m \u001b[0mprint\u001b[0m\u001b[1;33m(\u001b[0m\u001b[1;34mf\"numero della cpu: {t.get_device()}\"\u001b[0m\u001b[1;33m)\u001b[0m\u001b[1;33m\u001b[0m\u001b[1;33m\u001b[0m\u001b[0m\n\u001b[0m\u001b[0;32m     17\u001b[0m \u001b[0mprint\u001b[0m\u001b[1;33m(\u001b[0m\u001b[1;34mf\"tipo: {t.dtype}\"\u001b[0m\u001b[1;33m)\u001b[0m\u001b[1;33m\u001b[0m\u001b[1;33m\u001b[0m\u001b[0m\n",
      "\u001b[1;31mRuntimeError\u001b[0m: get_device is not implemented for tensors with CPU backend"
     ]
    }
   ],
   "source": [
    "device = torch.device('cuda', 0)\n",
    "dtype = torch.float\n",
    "t = torch.tensor([1,2,3], dtype=dtype, device=device)\n",
    "print(f\"device = {t.device}\")\n",
    "print(t.device==device)\n",
    "print(f\"numero della gpu: {t.get_device()}\")\n",
    "print(f\"tipo: {t.dtype}\")\n",
    "\n",
    "\n",
    "device = torch.device('cpu')\n",
    "dtype = torch.double\n",
    "t = torch.tensor([1,2,3], dtype=dtype, device=device)\n",
    "print(f\"device = {t.device}\")\n",
    "print(t.device==device)\n",
    "# get_device lancia un'eccezione se il tensore è sulla cpu\n",
    "print(f\"numero della cpu: {t.get_device()}\")\n",
    "print(f\"tipo: {t.dtype}\")"
   ]
  },
  {
   "cell_type": "code",
   "execution_count": 8,
   "metadata": {},
   "outputs": [
    {
     "name": "stdout",
     "output_type": "stream",
     "text": [
      "t1 + t2 = tensor([2., 3., 4.], device='cuda:0')\n",
      "t1 + t2 = tensor([2., 3., 4.])\n"
     ]
    },
    {
     "ename": "RuntimeError",
     "evalue": "expected type torch.cuda.FloatTensor but got torch.FloatTensor",
     "output_type": "error",
     "traceback": [
      "\u001b[1;31m---------------------------------------------------------------------------\u001b[0m",
      "\u001b[1;31mRuntimeError\u001b[0m                              Traceback (most recent call last)",
      "\u001b[1;32m<ipython-input-8-439448b987de>\u001b[0m in \u001b[0;36m<module>\u001b[1;34m\u001b[0m\n\u001b[0;32m     11\u001b[0m \u001b[0mt1\u001b[0m \u001b[1;33m=\u001b[0m \u001b[0mtorch\u001b[0m\u001b[1;33m.\u001b[0m\u001b[0mtensor\u001b[0m\u001b[1;33m(\u001b[0m\u001b[1;33m[\u001b[0m\u001b[1;36m1\u001b[0m\u001b[1;33m,\u001b[0m\u001b[1;36m2\u001b[0m\u001b[1;33m,\u001b[0m\u001b[1;36m3\u001b[0m\u001b[1;33m]\u001b[0m\u001b[1;33m,\u001b[0m \u001b[0mdtype\u001b[0m\u001b[1;33m=\u001b[0m\u001b[0mtorch\u001b[0m\u001b[1;33m.\u001b[0m\u001b[0mfloat\u001b[0m\u001b[1;33m,\u001b[0m \u001b[0mdevice\u001b[0m\u001b[1;33m=\u001b[0m\u001b[0mtorch\u001b[0m\u001b[1;33m.\u001b[0m\u001b[0mdevice\u001b[0m\u001b[1;33m(\u001b[0m\u001b[1;34m\"cuda:0\"\u001b[0m\u001b[1;33m)\u001b[0m\u001b[1;33m)\u001b[0m\u001b[1;33m\u001b[0m\u001b[1;33m\u001b[0m\u001b[0m\n\u001b[0;32m     12\u001b[0m \u001b[0mt2\u001b[0m \u001b[1;33m=\u001b[0m \u001b[0mtorch\u001b[0m\u001b[1;33m.\u001b[0m\u001b[0mtensor\u001b[0m\u001b[1;33m(\u001b[0m\u001b[1;33m[\u001b[0m\u001b[1;36m1\u001b[0m\u001b[1;33m,\u001b[0m\u001b[1;36m1\u001b[0m\u001b[1;33m,\u001b[0m\u001b[1;36m1\u001b[0m\u001b[1;33m]\u001b[0m\u001b[1;33m,\u001b[0m \u001b[0mdtype\u001b[0m\u001b[1;33m=\u001b[0m\u001b[0mtorch\u001b[0m\u001b[1;33m.\u001b[0m\u001b[0mfloat\u001b[0m\u001b[1;33m,\u001b[0m \u001b[0mdevice\u001b[0m\u001b[1;33m=\u001b[0m\u001b[0mtorch\u001b[0m\u001b[1;33m.\u001b[0m\u001b[0mdevice\u001b[0m\u001b[1;33m(\u001b[0m\u001b[1;34m\"cpu\"\u001b[0m\u001b[1;33m)\u001b[0m\u001b[1;33m)\u001b[0m\u001b[1;33m\u001b[0m\u001b[1;33m\u001b[0m\u001b[0m\n\u001b[1;32m---> 13\u001b[1;33m \u001b[0mprint\u001b[0m\u001b[1;33m(\u001b[0m\u001b[1;34mf\"t1 + t2 = {t1+t2}\"\u001b[0m\u001b[1;33m)\u001b[0m\u001b[1;33m\u001b[0m\u001b[1;33m\u001b[0m\u001b[0m\n\u001b[0m",
      "\u001b[1;31mRuntimeError\u001b[0m: expected type torch.cuda.FloatTensor but got torch.FloatTensor"
     ]
    }
   ],
   "source": [
    "t1 = torch.tensor([1,2,3], dtype=torch.float, device=torch.device(\"cuda:0\"))\n",
    "t2 = torch.tensor([1,1,1], dtype=torch.float, device=torch.device(\"cuda:0\"))\n",
    "print(f\"t1 + t2 = {t1+t2}\")\n",
    "\n",
    "t1 = torch.tensor([1,2,3], dtype=torch.float, device=torch.device(\"cpu\"))\n",
    "t2 = torch.tensor([1,1,1], dtype=torch.float, device=torch.device(\"cpu\"))\n",
    "print(f\"t1 + t2 = {t1+t2}\")\n",
    "\n",
    "# gli operandi devono risiedere sulla stessa device, altrimenti l'operazione genera un'eccezione.\n",
    "# Il tensore risultato risiede sulla stessa device degli operandi\n",
    "t1 = torch.tensor([1,2,3], dtype=torch.float, device=torch.device(\"cuda:0\"))\n",
    "t2 = torch.tensor([1,1,1], dtype=torch.float, device=torch.device(\"cpu\"))\n",
    "print(f\"t1 + t2 = {t1+t2}\")"
   ]
  },
  {
   "cell_type": "code",
   "execution_count": 6,
   "metadata": {},
   "outputs": [
    {
     "data": {
      "text/plain": [
       "torch.device"
      ]
     },
     "execution_count": 6,
     "metadata": {},
     "output_type": "execute_result"
    }
   ],
   "source": [
    "type(torch.device('cuda', 0))"
   ]
  },
  {
   "cell_type": "code",
   "execution_count": 7,
   "metadata": {},
   "outputs": [
    {
     "data": {
      "text/plain": [
       "torch.dtype"
      ]
     },
     "execution_count": 7,
     "metadata": {},
     "output_type": "execute_result"
    }
   ],
   "source": [
    "type(torch.float)"
   ]
  },
  {
   "cell_type": "code",
   "execution_count": null,
   "metadata": {},
   "outputs": [],
   "source": []
  }
 ],
 "metadata": {
  "kernelspec": {
   "display_name": "Python 3",
   "language": "python",
   "name": "python3"
  },
  "language_info": {
   "codemirror_mode": {
    "name": "ipython",
    "version": 3
   },
   "file_extension": ".py",
   "mimetype": "text/x-python",
   "name": "python",
   "nbconvert_exporter": "python",
   "pygments_lexer": "ipython3",
   "version": "3.7.1"
  }
 },
 "nbformat": 4,
 "nbformat_minor": 2
}
